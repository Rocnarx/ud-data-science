{
 "cells": [
  {
   "cell_type": "markdown",
   "metadata": {},
   "source": [
    "# Workshop 1\n",
    "\n",
    "Here you're gonna test your __data scientist junior__ skills. Read carefully each one of the problems, write your own test cases, and validate everything works as expected."
   ]
  },
  {
   "cell_type": "markdown",
   "metadata": {},
   "source": [
    "## 1. Regular Expressions\n",
    "\n",
    "As follows complete the code based on the __requirement__. There is a part `#YOUR CODE HERE` where you _should complete_ to accomplish the task. However, you _could_ change anything you want."
   ]
  },
  {
   "cell_type": "markdown",
   "metadata": {},
   "source": [
    "### Problem 1.1\n",
    "\n",
    "Find a list of all of all of the names in the following string using _regex_."
   ]
  },
  {
   "cell_type": "code",
   "execution_count": 1,
   "metadata": {},
   "outputs": [],
   "source": [
    "import re\n",
    "def names():\n",
    "    simple_string = \"\"\"Amy is 5 years old, and her sister Mary is 2 years old. \n",
    "    Ruth and Peter, their parents, have 3 kids.\"\"\"\n",
    "\n",
    "    pattern = r'\\b[A-Z][a-z]*\\b'\n",
    "    \n",
    "    return re.findall(pattern, simple_string) "
   ]
  },
  {
   "cell_type": "code",
   "execution_count": 2,
   "metadata": {},
   "outputs": [],
   "source": [
    "# example of test case\n",
    "assert len(names()) == 4, \"There are four names in the simple_string.\""
   ]
  },
  {
   "cell_type": "markdown",
   "metadata": {},
   "source": [
    "### Problem 1.2\n",
    "\n",
    "The _dataset file_ in [assets/grades.txt](./assets/grades.txt) contains a line separated _list of people_ with their __grade__ in a class. Create a _regex_ to generate a list of just those students who received a __B__ in the course."
   ]
  },
  {
   "cell_type": "code",
   "execution_count": 3,
   "metadata": {},
   "outputs": [],
   "source": [
    "import re\n",
    "\n",
    "\n",
    "def grades():\n",
    "    with open(\"assets/grades.txt\", \"r\") as file:\n",
    "        grades = file.read()\n",
    "\n",
    "        #print(type(grades))\n",
    "        pattern = r'\\b[A-Za-z]*\\s[A-Za-z]*:\\s[B]\\b'\n",
    "        students = re.findall(pattern, grades)\n",
    "        #print(len(students))\n",
    "\n",
    "    return students\n"
   ]
  },
  {
   "cell_type": "code",
   "execution_count": 4,
   "metadata": {},
   "outputs": [],
   "source": [
    "# example of test case\n",
    "assert len(grades()) == 16"
   ]
  },
  {
   "cell_type": "markdown",
   "metadata": {},
   "source": [
    "### Problem 1.3\n",
    "\n",
    "Consider the standard _web log file_ in [assets/logdata.txt](./assets/logdata.txt). This _file_ records the _access_ a user makes when visiting a web page. Each __line of the log__ has the following _items_:\n",
    "\n",
    "- a __host__ (e.g., `146.204.224.152`)\n",
    "- a __user_name__ (e.g., `feest6811`. _Hint:_ sometimes the user name is missing! In this case, use `-` as the value for the username.)\n",
    "- the __time__ a request was made (e.g., `21/Jun/2019:15:45:24 -0700`)\n",
    "- the post __request type__ (e.g., `POST /incentivize HTTP/1.1`. _Note:_ not everything is a POST!)\n",
    "\n",
    "Your task is to convert this into a list of dictionaries, where each dictionary looks like the following:\n",
    "\n",
    "```python\n",
    "example_dict = {\"host\":\"146.204.224.152\", \n",
    "                \"user_name\":\"feest6811\", \n",
    "                \"time\":\"21/Jun/2019:15:45:24 -0700\",\n",
    "                \"request\":\"POST /incentivize HTTP/1.1\"}\n",
    "```\n"
   ]
  },
  {
   "cell_type": "code",
   "execution_count": 14,
   "metadata": {},
   "outputs": [],
   "source": [
    "import re\n",
    "\n",
    "\n",
    "def logs():\n",
    "    with open(\"assets/logdata.txt\", \"r\") as file:\n",
    "        logdata = file.read()\n",
    "    actions = re.split(r\"\\n\", logdata)\n",
    "    logs_list = []\n",
    "\n",
    "    host_pattern = r'\\A[^\\s]+'\n",
    "    user_name_pattern = r'-\\s([A-Za-z0-9-]+)'\n",
    "    time_pattern = r'\\[(.*)\\]'\n",
    "    request_type_pattern = r'\"(.*)\"'\n",
    "\n",
    "    for action in actions:\n",
    "\n",
    "        \n",
    "\n",
    "        log_dict_temp = {\n",
    "            \"host\": re.findall(host_pattern, action)[0],\n",
    "            \"user_name\": (re.findall(user_name_pattern, action))[0],\n",
    "            \"time\": (re.findall(time_pattern, action))[0],\n",
    "            \"request\": (re.findall(request_type_pattern, action))[0]\n",
    "        }\n",
    "        logs_list.append(log_dict_temp)\n",
    "\n",
    "    return logs_list"
   ]
  },
  {
   "cell_type": "code",
   "execution_count": 15,
   "metadata": {},
   "outputs": [],
   "source": [
    "# example of test case\n",
    "\n",
    "\n",
    "one_item = {\n",
    "    \"host\": \"146.204.224.152\",\n",
    "    \"user_name\": \"feest6811\",\n",
    "    \"time\": \"21/Jun/2019:15:45:24 -0700\",\n",
    "    \"request\": \"POST /incentivize HTTP/1.1\",\n",
    "}\n",
    "assert (\n",
    "    one_item in logs()\n",
    "    \n",
    "), \"Sorry, this item should be in the log results, check your formating\""
   ]
  },
  {
   "cell_type": "markdown",
   "metadata": {},
   "source": [
    "# 2. Descriptive Analysis\n",
    "\n",
    "For this section, you'll be looking at _2017 data on immunizations_ from the _CDC_. Your _datafile_ for next tasks is in [assets/NISPUF17.csv](./assets/NISPUF17.csv). A _data users guide_ for this, which you'll need to map the variables in the data to the questions being asked, is available at [assets/NIS-PUF17-DUG.pdf](./assets/NIS-PUF17-DUG.pdf)."
   ]
  },
  {
   "cell_type": "markdown",
   "metadata": {},
   "source": [
    "# Problem 2.1\n",
    "\n",
    "Write a function called _proportion\\_of\\_education_ which returns the proportion of __children__ in the dataset who had a mother with the education levels equal to less than high school ($<12$), high school ($12$), more than high school but not a college graduate ($>12$) and _college degree_.\n",
    "\n",
    "This _function_ should return a __dictionary__ in the form of (use the _correct numbers_, do not round numbers):\n",
    "\n",
    "```python\n",
    "{\n",
    "    \"less than high school\": 0.2,\n",
    "    \"high school\": 0.4,\n",
    "    \"more than high school but not college\": 0.2,\n",
    "    \"college\": 0.2\n",
    "}\n",
    "```"
   ]
  },
  {
   "cell_type": "code",
   "execution_count": 7,
   "metadata": {},
   "outputs": [],
   "source": [
    "import pandas as pd\n",
    "\n",
    "def proportion_of_education():\n",
    "    proportions = {}\n",
    "    NISPUF17_df = pd.read_csv('assets/NISPUF17.csv')\n",
    "\n",
    "    total_count = len(NISPUF17_df)\n",
    "    \n",
    "    proportions = {\n",
    "    \"less_than_high_school \": (len(NISPUF17_df[NISPUF17_df['EDUC1'] == 1]) / total_count),\n",
    "    \"high_school\" : (len(NISPUF17_df[NISPUF17_df['EDUC1'] == 2]) / total_count),\n",
    "    \"more_than_high_school_not_college\" : (len(NISPUF17_df[NISPUF17_df['EDUC1'] == 3])  / total_count),\n",
    "    \"college\" : (len(NISPUF17_df[NISPUF17_df['EDUC1'] == 4]) / total_count)\n",
    "\n",
    "    }\n",
    "    \n",
    "    return proportions\n"
   ]
  },
  {
   "cell_type": "code",
   "execution_count": 8,
   "metadata": {},
   "outputs": [],
   "source": [
    "# example of test cases\n",
    "assert type(proportion_of_education()) == type({}), \"You must return a dictionary.\"\n",
    "assert (\n",
    "    len(proportion_of_education()) == 4\n",
    "), \"You have not returned a dictionary with four items in it.\""
   ]
  },
  {
   "cell_type": "markdown",
   "metadata": {},
   "source": [
    "## Problem 2.2\n",
    "\n",
    "Let's explore the relationship between being _fed breastmilk_ as a child and getting a seasonal _influenza vaccine_ from a healthcare provider. Return a __tuple__ of the _average number of influenza vaccines_ for those children we know received breastmilk as a child and those who know did not.\n",
    "\n",
    "This _function_ should return a __tuple__ in the form (use the _correct numbers_):\n",
    "\n",
    "```python\n",
    "(2.5, 0.1)\n",
    "```"
   ]
  },
  {
   "cell_type": "code",
   "execution_count": 9,
   "metadata": {},
   "outputs": [],
   "source": [
    "def average_influenza_doses():\n",
    "\n",
    "    doses = ()\n",
    "    NISPUF17_df = pd.read_csv('assets/NISPUF17.csv')\n",
    "    NISPUF17_temp_df = pd.DataFrame()\n",
    "    NISPUF17_temp_df['CBF_01'] = NISPUF17_df['CBF_01']\n",
    "    NISPUF17_temp_df['P_NUMFLU'] = NISPUF17_df['P_NUMFLU']\n",
    "    NISPUF17_temp_df = NISPUF17_temp_df.dropna()\n",
    "    NISPUF17_temp_df = NISPUF17_temp_df[(NISPUF17_temp_df['CBF_01'] != 77) & (NISPUF17_temp_df['CBF_01'] != 99)]\n",
    "\n",
    "    breastfed_avg = NISPUF17_temp_df[NISPUF17_temp_df['CBF_01'] == 1]['P_NUMFLU'].mean()\n",
    "    not_breastfed_avg = NISPUF17_temp_df[NISPUF17_temp_df['CBF_01'] == 2]['P_NUMFLU'].mean()\n",
    "\n",
    "    doses = (breastfed_avg, not_breastfed_avg)\n",
    "    return doses\n"
   ]
  },
  {
   "cell_type": "code",
   "execution_count": 10,
   "metadata": {},
   "outputs": [],
   "source": [
    "# example of test cases\n",
    "assert (\n",
    "    len(average_influenza_doses()) == 2\n",
    "), \"Return two values in a tuple, the first for yes and the second for no.\""
   ]
  },
  {
   "cell_type": "markdown",
   "metadata": {},
   "source": [
    "## Problem 2.3\n",
    "\n",
    "It would be interesting to see if there is any evidence of a link between _vaccine effectiveness_ and _sex of the child_. Calculate the _ratio of the number of children_ who contracted __chickenpox__ but _were vaccinated against it_ (at least one varicella dose) versus those who were vaccinated but did not contract _chicken pox_. Return results by _sex_.\n",
    "\n",
    "This _function_ should return a __dictionary__ in the form of (use the _correct numbers_):\n",
    "\n",
    "```python\n",
    "{\n",
    "    \"male\":0.2,\n",
    "    \"female\":0.4\n",
    "}\n",
    "```\n",
    "\n",
    "_Note:_ To aid in verification, the `chickenpox_by_sex()['female']` value the autograder is looking for starts with the digits `0.0077`.\n"
   ]
  },
  {
   "cell_type": "code",
   "execution_count": 11,
   "metadata": {},
   "outputs": [
    {
     "name": "stdout",
     "output_type": "stream",
     "text": [
      "{'male': 0.009675583380762664, 'female': 0.0077918259335489565}\n"
     ]
    }
   ],
   "source": [
    "def chickenpox_by_sex():\n",
    "\n",
    "    stats = {}\n",
    "\n",
    "    NISPUF17_df = pd.read_csv('assets/NISPUF17.csv')\n",
    "    NISPUF17_temp_df = NISPUF17_df[['SEX', 'HAD_CPOX', 'P_NUMVRC']].dropna()\n",
    "    \n",
    "    NISPUF17_vaccinated = NISPUF17_temp_df[NISPUF17_temp_df['P_NUMVRC'] >= 1]\n",
    "    NISPUF17_male = NISPUF17_vaccinated[NISPUF17_vaccinated['SEX'] == 1]\n",
    "    NISPUF17_female = NISPUF17_vaccinated[NISPUF17_vaccinated['SEX'] == 2]\n",
    "    \n",
    "    \n",
    "    NISPUF17_male_cpox = NISPUF17_male['HAD_CPOX'].value_counts()\n",
    "    NISPUF17_male_ratio = NISPUF17_male_cpox.get(1, 0) / NISPUF17_male_cpox.get(2, 1)\n",
    "    NISPUF17_female_cpox = NISPUF17_female['HAD_CPOX'].value_counts()\n",
    "    NISPUF17_female_ratio = NISPUF17_female_cpox.get(1, 0) / NISPUF17_female_cpox.get(2, 1)\n",
    "    \n",
    "    return {\"male\": NISPUF17_male_ratio, \"female\": NISPUF17_female_ratio}\n",
    "\n",
    "print(chickenpox_by_sex())"
   ]
  },
  {
   "cell_type": "markdown",
   "metadata": {},
   "source": [
    "## Problem 2.4\n",
    "\n",
    "A __correlation__ is a _statistical relationship_ between two variables. If we wanted to know _if vaccines work_, we might look at the correlation between the use of the vaccine and whether it results in prevention of the infection or disease. In this task, you are to see if there is a correlation between _having had the chicken pox_ and the _number of chickenpox vaccine doses given_ (varicella).\n",
    "\n",
    "Some notes on interpreting the answer. The `had_chickenpox_column` is either $1$ (for _yes_) or $2$ (for _no_), and the `num_chickenpox_vaccine_column` is the number of doses a child has been given of the varicella vaccine. A _positive correlation_ (e.g., $corr > 0$) means that an increase in _had\\_chickenpox\\_column_ (which means more _no_’s) would also increase the values of _num\\_chickenpox\\_vaccine\\_column_ (which means _more doses of vaccine_). If there is a _negative correlation_ (e.g., $corr < 0$), it indicates that having had chickenpox is related to an increase in the number of vaccine doses.\n",
    "\n",
    "Also, $pval$ is the probability that we observe a correlation between _had\\_chickenpox\\_column_ and _num\\_chickenpox\\_vaccine\\_column_ which is greater than or equal to a particular value occurred by chance. A _small pval_ means that the observed correlation is highly unlikely to occur by chance. In this case, _pval_ should be very small (will end in $e-18$ indicating a very small number)."
   ]
  },
  {
   "cell_type": "code",
   "execution_count": 12,
   "metadata": {},
   "outputs": [],
   "source": [
    "import scipy.stats as stats\n",
    "import numpy as np\n",
    "import pandas as pd\n",
    "\n",
    "\n",
    "def corr_chickenpox():\n",
    "\n",
    "    NISPUF17_df = pd.read_csv('assets/NISPUF17.csv')\n",
    "    NISPUF17_temp_df = NISPUF17_df[['HAD_CPOX', 'P_NUMVRC']].dropna()\n",
    "\n",
    "    corr, pval = stats.pearsonr(NISPUF17_temp_df[\"HAD_CPOX\"], NISPUF17_temp_df[\"P_NUMVRC\"])\n",
    "    return corr"
   ]
  },
  {
   "cell_type": "code",
   "execution_count": 13,
   "metadata": {},
   "outputs": [],
   "source": [
    "# example of test cases\n",
    "assert (\n",
    "    -1 <= corr_chickenpox() <= 1\n",
    "), \"You must return a float number between -1.0 and 1.0.\""
   ]
  }
 ],
 "metadata": {
  "kernelspec": {
   "display_name": "data_science_course",
   "language": "python",
   "name": "python3"
  },
  "language_info": {
   "codemirror_mode": {
    "name": "ipython",
    "version": 3
   },
   "file_extension": ".py",
   "mimetype": "text/x-python",
   "name": "python",
   "nbconvert_exporter": "python",
   "pygments_lexer": "ipython3",
   "version": "3.11.9"
  }
 },
 "nbformat": 4,
 "nbformat_minor": 2
}
